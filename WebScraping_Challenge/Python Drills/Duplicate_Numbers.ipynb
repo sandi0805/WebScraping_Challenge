{
 "cells": [
  {
   "cell_type": "markdown",
   "metadata": {},
   "source": [
    "# Duplicate Numbers\n",
    "\n",
    "#### Challenge 1: Print all numbers with duplicates\n",
    "#### Challenge 2: Print only the numbers that were seen once\n",
    "#### Challenge 3: Count the number of duplicates"
   ]
  },
  {
   "cell_type": "code",
   "execution_count": 5,
   "metadata": {},
   "outputs": [],
   "source": [
    "numbers = [1, 6, 6, 3, 3, 3, 4]"
   ]
  },
  {
   "cell_type": "markdown",
   "metadata": {},
   "source": [
    "### YOUR CODE HERE"
   ]
  },
  {
   "cell_type": "code",
   "execution_count": 6,
   "metadata": {},
   "outputs": [
    {
     "name": "stdout",
     "output_type": "stream",
     "text": [
      "Challenge 1:  {3, 6}\n",
      "Challenge 2:  {1, 3, 4, 6}\n",
      "Challenge 3:  {1: 1, 6: 2, 3: 3, 4: 1}\n"
     ]
    }
   ],
   "source": [
    "lone_numbers = set()\n",
    "duplicates = set()\n",
    "count_duplicates = dict()\n",
    "for number in numbers:\n",
    "    if number in lone_numbers:\n",
    "        duplicates.add(number)\n",
    "        count_duplicates[number] += 1\n",
    "    else:\n",
    "        lone_numbers.add(number)\n",
    "        count_duplicates[number] = 1\n",
    "print(\"Challenge 1: \", duplicates)\n",
    "print(\"Challenge 2: \", lone_numbers)\n",
    "print(\"Challenge 3: \", count_duplicates)"
   ]
  },
  {
   "cell_type": "code",
   "execution_count": 7,
   "metadata": {},
   "outputs": [
    {
     "name": "stdout",
     "output_type": "stream",
     "text": [
      "Challenge 1:  [3, 6]\n",
      "Challenge 2:  [1, 4]\n",
      "Challenge 3:  {1: 1, 3: 3, 4: 1, 6: 2}\n"
     ]
    }
   ],
   "source": [
    "from itertools import groupby\n",
    "\n",
    "numbers = [1, 6, 6, 3, 3, 3, 4]\n",
    "lone_numbers = []\n",
    "duplicates = []\n",
    "count_duplicates = {}\n",
    "for number, items in groupby(sorted(numbers)):\n",
    "    length = len(list(items))\n",
    "    count_duplicates[number] = length\n",
    "    if length > 1:\n",
    "        duplicates.append(number)\n",
    "    else:\n",
    "        lone_numbers.append(number)\n",
    "print(\"Challenge 1: \", duplicates)\n",
    "print(\"Challenge 2: \", lone_numbers)\n",
    "print(\"Challenge 3: \", count_duplicates)"
   ]
  },
  {
   "cell_type": "code",
   "execution_count": null,
   "metadata": {},
   "outputs": [],
   "source": []
  }
 ],
 "metadata": {
  "kernelspec": {
   "display_name": "Python 3",
   "language": "python",
   "name": "python3"
  },
  "language_info": {
   "codemirror_mode": {
    "name": "ipython",
    "version": 3
   },
   "file_extension": ".py",
   "mimetype": "text/x-python",
   "name": "python",
   "nbconvert_exporter": "python",
   "pygments_lexer": "ipython3",
   "version": "3.8.3"
  },
  "varInspector": {
   "cols": {
    "lenName": 16,
    "lenType": 16,
    "lenVar": 40
   },
   "kernels_config": {
    "python": {
     "delete_cmd_postfix": "",
     "delete_cmd_prefix": "del ",
     "library": "var_list.py",
     "varRefreshCmd": "print(var_dic_list())"
    },
    "r": {
     "delete_cmd_postfix": ") ",
     "delete_cmd_prefix": "rm(",
     "library": "var_list.r",
     "varRefreshCmd": "cat(var_dic_list()) "
    }
   },
   "types_to_exclude": [
    "module",
    "function",
    "builtin_function_or_method",
    "instance",
    "_Feature"
   ],
   "window_display": false
  }
 },
 "nbformat": 4,
 "nbformat_minor": 2
}
